{
  "nbformat": 4,
  "nbformat_minor": 0,
  "metadata": {
    "colab": {
      "provenance": []
    },
    "kernelspec": {
      "name": "python3",
      "display_name": "Python 3"
    },
    "language_info": {
      "name": "python"
    }
  },
  "cells": [
    {
      "cell_type": "code",
      "execution_count": 7,
      "metadata": {
        "id": "mLqsC5swskaf"
      },
      "outputs": [],
      "source": [
        "## Parameters\n",
        "\n",
        "L = 1000        # SLOC\n",
        "p = value=0.45  # Probability for each auditor of missing a finding\n",
        "A = value=3.00  # Number of auditors\n",
        "K = value=10    # Number of issues they've found\n",
        "t = value=0.001 # Level of confidence wanted (0.01 = 1%)"
      ]
    },
    {
      "cell_type": "code",
      "source": [
        "## Run on this cell after filling the parameters above\n",
        "\n",
        "def binomial_coeff(n, k):\n",
        "    if k > n - k:  # Take advantage of symmetry\n",
        "        k = n - k  \n",
        "    c = 1\n",
        "    for i in range(0, k):\n",
        "        c = c * (n - i)\n",
        "        c = c // (i + 1)\n",
        "    return c\n",
        "\n",
        "def computeMissProbability(L, p, A, K):\n",
        "  numerator = binomial_coeff(L, K) * (K/L)**K * ((L-K)/L)**(L-K)\n",
        "  denominator = 0\n",
        "\n",
        "  i = K\n",
        "  while (i < K * 3):\n",
        "      denominator += binomial_coeff(i, K) * binomial_coeff(L, i) * (p**A)**(i-K) * (K/L)**i * ((L-K)/L)**(L-i)\n",
        "      i += 1\n",
        "  return 1 - numerator / denominator\n",
        "\n",
        "def auditorNeeded(L, p, K, t):\n",
        "  A = 1\n",
        "  while (computeMissProbability(L, p, A, K) > t):\n",
        "    A += 1\n",
        "  return (A, computeMissProbability(L, p, A, K))\n",
        "  \n",
        "print(\"\")\n",
        "print(\"Probability that a finding has been missed for \", A, \"auditors: ~\", '{:.3f}'.format(computeMissProbability(L, p, A, K) * 100), \"%\")\n",
        "\n",
        "auditors, proba = auditorNeeded(L, p, K, t)\n",
        "print(auditors, \"auditors are needed to reach a probability of\", '{:.3f}'.format(proba * 100), \"%\")"
      ],
      "metadata": {
        "colab": {
          "base_uri": "https://localhost:8080/"
        },
        "id": "ysjfI2UznNao",
        "outputId": "ef91c8dc-959e-4ba0-a16c-74cf3c2cce94"
      },
      "execution_count": 8,
      "outputs": [
        {
          "output_type": "stream",
          "name": "stdout",
          "text": [
            "\n",
            "Probability that a finding has been missed for  3.0 auditors: ~ 59.781 %\n",
            "12 auditors are needed to reach a probability of 0.069 %\n"
          ]
        }
      ]
    }
  ]
}